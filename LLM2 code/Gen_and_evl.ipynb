{
 "cells": [
  {
   "cell_type": "code",
   "execution_count": 1,
   "metadata": {},
   "outputs": [
    {
     "name": "stderr",
     "output_type": "stream",
     "text": [
      "2024-07-07 21:06:22.088159: I tensorflow/core/util/port.cc:113] oneDNN custom operations are on. You may see slightly different numerical results due to floating-point round-off errors from different computation orders. To turn them off, set the environment variable `TF_ENABLE_ONEDNN_OPTS=0`.\n",
      "2024-07-07 21:06:22.133668: E external/local_xla/xla/stream_executor/cuda/cuda_dnn.cc:9261] Unable to register cuDNN factory: Attempting to register factory for plugin cuDNN when one has already been registered\n",
      "2024-07-07 21:06:22.133691: E external/local_xla/xla/stream_executor/cuda/cuda_fft.cc:607] Unable to register cuFFT factory: Attempting to register factory for plugin cuFFT when one has already been registered\n",
      "2024-07-07 21:06:22.135318: E external/local_xla/xla/stream_executor/cuda/cuda_blas.cc:1515] Unable to register cuBLAS factory: Attempting to register factory for plugin cuBLAS when one has already been registered\n",
      "2024-07-07 21:06:22.143413: I tensorflow/core/platform/cpu_feature_guard.cc:182] This TensorFlow binary is optimized to use available CPU instructions in performance-critical operations.\n",
      "To enable the following instructions: AVX2 AVX512F AVX512_VNNI AVX512_BF16 AVX_VNNI AMX_TILE AMX_INT8 AMX_BF16 FMA, in other operations, rebuild TensorFlow with the appropriate compiler flags.\n",
      "2024-07-07 21:06:23.122510: W tensorflow/compiler/tf2tensorrt/utils/py_utils.cc:38] TF-TRT Warning: Could not find TensorRT\n"
     ]
    }
   ],
   "source": [
    "import os\n",
    "import sys\n",
    "import collections\n",
    "sys.path.append('..')\n",
    "from utils.Generate import Generate\n",
    "from utils.Evaluation_indicators import Evaluation_indicators\n",
    "from configs.Generate_config import *\n",
    "from peft import PeftModel\n",
    "import transformers\n",
    "import torch\n",
    "import json\n",
    "import numpy as np\n",
    "from accelerate.utils import release_memory\n",
    "from datasets import load_dataset, Dataset, DatasetDict\n",
    "import pandas as pd"
   ]
  },
  {
   "cell_type": "code",
   "execution_count": null,
   "metadata": {},
   "outputs": [],
   "source": [
    "train_path = './Train/Output/2024-06-26(Llama3)'\n",
    "different_parameter_string = [train_path + '/' +i for i in os.listdir(train_path)]\n",
    "\n",
    "save_string = ['./Generate/Output/Lora/' + train_path[-16:] + '/' +i for i in os.listdir(train_path)]\n",
    "\n",
    "print('模型路径')\n",
    "for i in different_parameter_string:\n",
    "    print(i)\n",
    "print('-------------------')\n",
    "print('保存路径')\n",
    "for i in save_string:\n",
    "    print(i)\n",
    "print('-------------------')"
   ]
  },
  {
   "cell_type": "markdown",
   "metadata": {},
   "source": [
    "### 推理"
   ]
  },
  {
   "cell_type": "code",
   "execution_count": null,
   "metadata": {},
   "outputs": [],
   "source": [
    "test = Generate(**CONFIG)\n",
    "# 读取可用模型序列\n",
    "#base_model = 'meta-llama/Llama-2-13b-hf'\n",
    "base_model = 'meta-llama/Meta-Llama-3-8B'\n",
    "use_tokenizer = test.load_tokenizer(base_model)"
   ]
  },
  {
   "cell_type": "code",
   "execution_count": null,
   "metadata": {},
   "outputs": [],
   "source": [
    "PROMPTER_first_question = test.load_template(prompt_template_path = \"alpaca\")\n",
    "#PROMPTER_other_questions = test.load_template(prompt_template_path = \"alpaca\")\n",
    "predict_data = test.load_data(\"LLM2 code\\\\new_version\\\\Dataset\\\\Answer_test(4)_fixed.json\")\n",
    "#predict_data = test.load_data(\"../Train/Dataset/Fast_test/Test_Set.json\")\n",
    "pre_data = test.Preprocess()\n",
    "b_data,o_data = test.map_dataset(test.data_preprocess,add_eos_token=True)"
   ]
  },
  {
   "cell_type": "code",
   "execution_count": null,
   "metadata": {},
   "outputs": [],
   "source": [
    "loaded_model = test.load_model()\n",
    "generation_config = test.Parameter_setting()"
   ]
  },
  {
   "cell_type": "code",
   "execution_count": null,
   "metadata": {},
   "outputs": [],
   "source": [
    "for i in different_parameter_string:\n",
    "    print(i)\n",
    "    index = i.split('/')[-1]\n",
    "    \n",
    "    model_lora = PeftModel.from_pretrained(\n",
    "        loaded_model,\n",
    "        i,\n",
    "        torch_dtype=torch.float32,        \n",
    "    )\n",
    "    \n",
    "    for j in ['o_data']:\n",
    "        p_d = test.predict_circulate(eval(j),is_shut_down=False,shut_down_index=1)\n",
    "        save_file = p_d.remove_columns(column_names=['input_ids',])\n",
    "        save_path = save_string[different_parameter_string.index(i)]\n",
    "        test.save_results(save_file,output_dir=save_path)"
   ]
  },
  {
   "cell_type": "markdown",
   "metadata": {},
   "source": [
    "### 评估"
   ]
  },
  {
   "cell_type": "code",
   "execution_count": 2,
   "metadata": {},
   "outputs": [],
   "source": [
    "import subprocess\n",
    "import os\n",
    "\n",
    "result = subprocess.run('bash -c \"source /etc/network_turbo && env | grep proxy\"', shell=True, capture_output=True, text=True)\n",
    "output = result.stdout\n",
    "for line in output.splitlines():\n",
    "    if '=' in line:\n",
    "        var, value = line.split('=', 1)\n",
    "        os.environ[var] = value"
   ]
  },
  {
   "cell_type": "code",
   "execution_count": 6,
   "metadata": {},
   "outputs": [
    {
     "name": "stdout",
     "output_type": "stream",
     "text": [
      "评估路径\n"
     ]
    },
    {
     "data": {
      "text/plain": [
       "['/root/autodl-tmp/new_version/Generate/Output/Lora/ut/2024-06-26(Llama3)/checkpoint-400']"
      ]
     },
     "execution_count": 6,
     "metadata": {},
     "output_type": "execute_result"
    }
   ],
   "source": [
    "baseline_string = ['./Generate/Output/chat-gpt/06-16']\n",
    "Evluator = Evaluation_indicators()\n",
    "evaluete_string = ['/root/autodl-tmp/new_version/Generate/Output/Lora/ut/2024-06-26(Llama3)/checkpoint-400']\n",
    "print('评估路径')\n",
    "evaluete_string"
   ]
  },
  {
   "cell_type": "code",
   "execution_count": 7,
   "metadata": {},
   "outputs": [
    {
     "name": "stdout",
     "output_type": "stream",
     "text": [
      "/root/autodl-tmp/new_version/Generate/Output/Lora/ut/2024-06-26(Llama3)/checkpoint-400/Only/Llama3_2345.json\n",
      "Loading data: \"/root/autodl-tmp/new_version/Generate/Output/Lora/ut/2024-06-26(Llama3)/checkpoint-400/Only/Llama3_2345.json\"\n"
     ]
    },
    {
     "data": {
      "application/vnd.jupyter.widget-view+json": {
       "model_id": "cf0356a028704185a3c141c767bae289",
       "version_major": 2,
       "version_minor": 0
      },
      "text/plain": [
       "Generating train split: 0 examples [00:00, ? examples/s]"
      ]
     },
     "metadata": {},
     "output_type": "display_data"
    },
    {
     "name": "stdout",
     "output_type": "stream",
     "text": [
      "Predict data loaded successfully\n",
      "bleu loaded\n",
      "rouge loaded\n"
     ]
    },
    {
     "name": "stderr",
     "output_type": "stream",
     "text": [
      "[nltk_data] Downloading package wordnet to /root/nltk_data...\n",
      "[nltk_data]   Package wordnet is already up-to-date!\n",
      "[nltk_data] Downloading package punkt to /root/nltk_data...\n",
      "[nltk_data]   Package punkt is already up-to-date!\n",
      "[nltk_data] Downloading package omw-1.4 to /root/nltk_data...\n",
      "[nltk_data]   Package omw-1.4 is already up-to-date!\n"
     ]
    },
    {
     "name": "stdout",
     "output_type": "stream",
     "text": [
      "meteor loaded\n",
      "bert_score loaded\n"
     ]
    },
    {
     "name": "stderr",
     "output_type": "stream",
     "text": [
      "Some weights of RobertaModel were not initialized from the model checkpoint at roberta-large and are newly initialized: ['roberta.pooler.dense.weight', 'roberta.pooler.dense.bias']\n",
      "You should probably TRAIN this model on a down-stream task to be able to use it for predictions and inference.\n"
     ]
    }
   ],
   "source": [
    "for i in evaluete_string:\n",
    "    for j in ['/Only/']:\n",
    "        path = i + j\n",
    "        json_path = path + os.listdir(path)[0]\n",
    "        print(json_path)\n",
    "        evluate_data = Evluator.load_data(json_path)\n",
    "        result = Evluator.run_evaluate(evluate_data, ['bleu','rouge','meteor','bert_score'])  \n",
    "        # if you can't use connect to the huggingface,use local metric.You can see local metric in the './Model/Metrics/metrics'\n",
    "        Evluator.save_json(result, path + 'result.json')\n",
    "        # 将result保存为json文件"
   ]
  },
  {
   "cell_type": "markdown",
   "metadata": {},
   "source": [
    "### 读取评估结果"
   ]
  },
  {
   "cell_type": "code",
   "execution_count": null,
   "metadata": {},
   "outputs": [],
   "source": [
    "# 想要读取推理的结果的话，用下面的方法\n",
    "from datasets import load_dataset\n",
    "kkk = load_dataset('json', data_files='/root/autodl-tmp/new_version/Generate/Output/Lora/2024-05-28/10-54/checkpoint-120/Only/result.json')\n",
    "kkk['train'].to_pandas()"
   ]
  }
 ],
 "metadata": {
  "kernelspec": {
   "display_name": "Python 3",
   "language": "python",
   "name": "python3"
  },
  "language_info": {
   "codemirror_mode": {
    "name": "ipython",
    "version": 3
   },
   "file_extension": ".py",
   "mimetype": "text/x-python",
   "name": "python",
   "nbconvert_exporter": "python",
   "pygments_lexer": "ipython3",
   "version": "3.10.8"
  }
 },
 "nbformat": 4,
 "nbformat_minor": 2
}
