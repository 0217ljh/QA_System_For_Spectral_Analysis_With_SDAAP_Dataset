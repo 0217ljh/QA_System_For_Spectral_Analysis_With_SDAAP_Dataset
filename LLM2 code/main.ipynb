{
 "cells": [
  {
   "cell_type": "code",
   "execution_count": null,
   "metadata": {},
   "outputs": [],
   "source": [
    "import os\n",
    "import sys\n",
    "import collections\n",
    "from torch import nn\n",
    "from utils.finetune import Fine_tune\n",
    "from configs.Fine_tune_config import *\n",
    "import transformers"
   ]
  },
  {
   "cell_type": "code",
   "execution_count": null,
   "metadata": {},
   "outputs": [],
   "source": [
    "import subprocess\n",
    "import os\n",
    "\n",
    "result = subprocess.run('bash -c \"source /etc/network_turbo && env | grep proxy\"', shell=True, capture_output=True, text=True)\n",
    "output = result.stdout\n",
    "for line in output.splitlines():\n",
    "    if '=' in line:\n",
    "        var, value = line.split('=', 1)\n",
    "        os.environ[var] = value"
   ]
  },
  {
   "cell_type": "code",
   "execution_count": null,
   "metadata": {},
   "outputs": [],
   "source": [
    "#Configs.keys()\n",
    "hebing = {}\n",
    "for Key,Value in Configs.items():\n",
    "    # 将所有key对应的value合并为1个字典\n",
    "    for key,value in Value.items():\n",
    "        hebing[key] = value\n",
    "hebing.keys()"
   ]
  },
  {
   "cell_type": "code",
   "execution_count": null,
   "metadata": {},
   "outputs": [],
   "source": [
    "test = Fine_tune(train_data_path='Answer_train(4)_fixed.json',**hebing)\n",
    "test.print_config()"
   ]
  },
  {
   "cell_type": "code",
   "execution_count": null,
   "metadata": {},
   "outputs": [],
   "source": [
    "my_tokenizer = test.load_tokenizer(change_tokenizer=True,)"
   ]
  },
  {
   "cell_type": "code",
   "execution_count": null,
   "metadata": {},
   "outputs": [],
   "source": [
    "test.load_template()\n",
    "dataset = test.load_data()"
   ]
  },
  {
   "cell_type": "code",
   "execution_count": null,
   "metadata": {},
   "outputs": [],
   "source": [
    "preprocess_dataset = test.preprocess(dataset)\n",
    "print(preprocess_dataset['Train'][0])\n",
    "train_data,valid_data = test.map_dataset(preprocess_dataset)"
   ]
  },
  {
   "cell_type": "code",
   "execution_count": null,
   "metadata": {},
   "outputs": [],
   "source": [
    "model = test.load_model()"
   ]
  },
  {
   "cell_type": "code",
   "execution_count": null,
   "metadata": {},
   "outputs": [],
   "source": [
    "train_data[0]"
   ]
  },
  {
   "cell_type": "code",
   "execution_count": null,
   "metadata": {},
   "outputs": [],
   "source": [
    "change_lora_config = {'lora_r':16,'lora_alpha':32,'lora_target_modules':['q_proj', 'k_proj','v_proj']} # The default config is : 'lora_r':8,'lora_alpha':16. You can change it by passing a dict to the function.\n",
    "LORA_config = test.model_prepare(\n",
    "    lora_config=change_lora_config\n",
    "    )\n",
    "#LORA_config"
   ]
  },
  {
   "cell_type": "code",
   "execution_count": null,
   "metadata": {},
   "outputs": [],
   "source": [
    "test.wandb_config()"
   ]
  },
  {
   "cell_type": "markdown",
   "metadata": {},
   "source": [
    "# Start training"
   ]
  },
  {
   "cell_type": "code",
   "execution_count": null,
   "metadata": {},
   "outputs": [],
   "source": [
    "train_config={'num_epochs' : 35,'learning_rate': 0.0001,'save_total_limit':40}\n",
    "Arguments = test.train(**train_config)\n",
    "\n",
    "#Arguments = test.train(My_trainer=MyTrainer, **train_config)   # if you want to change the loss function, you can use this line to change the loss function.\n",
    "test.Arguments"
   ]
  },
  {
   "cell_type": "code",
   "execution_count": null,
   "metadata": {},
   "outputs": [],
   "source": [
    "test.trainer.train()"
   ]
  }
 ],
 "metadata": {
  "kernelspec": {
   "display_name": "Python 3",
   "language": "python",
   "name": "python3"
  },
  "language_info": {
   "codemirror_mode": {
    "name": "ipython",
    "version": 3
   },
   "file_extension": ".py",
   "mimetype": "text/x-python",
   "name": "python",
   "nbconvert_exporter": "python",
   "pygments_lexer": "ipython3",
   "version": "3.10.8"
  }
 },
 "nbformat": 4,
 "nbformat_minor": 2
}
